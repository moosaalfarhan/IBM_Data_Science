{
 "cells": [
  {
   "cell_type": "markdown",
   "id": "ecfa8531",
   "metadata": {},
   "source": [
    "# Data Science Tools and Ecosystem"
   ]
  },
  {
   "cell_type": "markdown",
   "id": "7c312754",
   "metadata": {},
   "source": [
    "In this notebook, Data Science Tools and Ecosystem are summarized."
   ]
  },
  {
   "cell_type": "markdown",
   "id": "ce3e30e8",
   "metadata": {},
   "source": [
    "### Objectives:\n",
    "\n",
    "* Data scientists commonly use several programming languages\n",
    "* Some commonly used libraries across different programming languages\n",
    "* List of three development environment open source tools used in data science\n",
    "* Arithmetic operators for performing common mathematical operations\n",
    "* Simple arithmetic expression to mutiply then add integers\n",
    "* Share notebook through GitHub\n",
    "* Learn how to add Markdown and Code cells"
   ]
  },
  {
   "cell_type": "markdown",
   "id": "c73d6d0f",
   "metadata": {},
   "source": [
    "Data scientists commonly use several programming languages, each with its own strengths and areas of application. Some of the most popular languages in the field of data science include:\n",
    "\n",
    "1) Python.\n",
    "2) R.\n",
    "3) SQL (Structured Query Language).\n",
    "4) Java.\n",
    "5) Scala.\n",
    "6) Julia.\n",
    "\n",
    "and others.\n",
    "\n",
    "Each of these languages has its own unique features and areas of strength, making them suitable for different aspects of data science work. The choice of language often depends on the specific requirements of the project, the data scientist's familiarity with the language, and the existing tools and systems in use at their organization."
   ]
  },
  {
   "cell_type": "markdown",
   "id": "0af09cc9",
   "metadata": {},
   "source": [
    "Data scientists utilize a wide range of libraries and frameworks to assist in various aspects of data analysis, visualization, machine learning, and more. Here are some commonly used libraries across different programming languages:\n",
    "\n",
    "* Python Libraries:\n",
    "    1) Pandas.\n",
    "    2) NumPy.\n",
    "    3) SciPy.\n",
    "    4) Seaborn.\n",
    "    5) Scikit-learn.\n",
    "    6) TensorFlow.\n",
    "    7) PyTorch.\n",
    "\n",
    "* R Libraries:\n",
    "    1) ggplot2.\n",
    "    2) dplyr.\n",
    "    3) tidyr.\n",
    "    4) caret.\n",
    "    5) shiny.\n",
    "\n",
    "* Java Libraries:\n",
    "    1) Weka.\n",
    "    2) Deeplearning4j.\n",
    "    \n",
    "* SQL Tools/Libraries:\n",
    "    1) PL/SQL: Procedural language extension for SQL.\n",
    "    2) T-SQL: Microsoft's and Sybase's proprietary extension to SQL.\n",
    "\n",
    "* Julia Libraries:\n",
    "    1) Flux.jl: Library for machine learning in Julia.\n",
    "    2) DataFrames.jl: For working with tabular data in Julia.\n",
    "\n",
    "Each of these libraries and frameworks has its specific use cases and strengths, making them indispensable tools in the arsenal of a data scientist. The choice of library often depends on the task at hand, the programming language being used, and personal or organizational preferences."
   ]
  },
  {
   "cell_type": "markdown",
   "id": "aaa2262a",
   "metadata": {},
   "source": [
    "| Data Science Tools |\n",
    "|------------------|\n",
    "| Jupyter Notebook |\n",
    "| RStudio |\n",
    "| IBM Watson Studio |"
   ]
  },
  {
   "cell_type": "markdown",
   "id": "6619c7a3",
   "metadata": {},
   "source": [
    "In Python, evaluating arithmetic expressions is straightforward. The language supports a variety of arithmetic operators for performing common mathematical operations. Here are a few examples:\n",
    "\n",
    "* Basic Arithmetic Operation\n",
    "    * result = 5 + 3  # result is 8\n",
    "\n",
    "* Modulus Operation (remainder of a division):\n",
    "    * remainder = 10 % 3  # remainder is 1\n",
    "\n",
    "* Exponentiation (power of a number):\n",
    "    * power = 2 ** 3  # power is 8 (2 raised to the power of 3)\n",
    "\n",
    "* Integer Division/Floor Division (divides and rounds down to the nearest integer):\n",
    "    * result = 17 // 2  # result is 8 (17 divided by 2 is 8.5, rounded down to 8)\n",
    "\n",
    "* Complex Expressions (combining multiple operations):\n",
    "    * result = (3 + 4) * (2 - 1)  # result is 7 (parentheses take precedence)\n",
    "\n",
    "\n"
   ]
  },
  {
   "cell_type": "code",
   "execution_count": 1,
   "id": "6d5330d2",
   "metadata": {},
   "outputs": [
    {
     "data": {
      "text/plain": [
       "17"
      ]
     },
     "execution_count": 1,
     "metadata": {},
     "output_type": "execute_result"
    }
   ],
   "source": [
    "# This a simple arithmetic expression to mutiply then add integers\n",
    "\n",
    "(3*4)+5"
   ]
  },
  {
   "cell_type": "code",
   "execution_count": 3,
   "id": "d876767b",
   "metadata": {},
   "outputs": [
    {
     "name": "stdout",
     "output_type": "stream",
     "text": [
      "3.3333333333333335\n"
     ]
    }
   ],
   "source": [
    "# This will convert 200 minutes to hours by diving by 60\n",
    "\n",
    "mnt = 200\n",
    "hur = mnt/60\n",
    "print(hur)"
   ]
  },
  {
   "cell_type": "markdown",
   "id": "b65f8355",
   "metadata": {},
   "source": [
    "## Author:\n",
    "Musa Mohammad Farhan"
   ]
  },
  {
   "cell_type": "code",
   "execution_count": null,
   "id": "e2eb365a",
   "metadata": {},
   "outputs": [],
   "source": []
  }
 ],
 "metadata": {
  "kernelspec": {
   "display_name": "Python 3 (ipykernel)",
   "language": "python",
   "name": "python3"
  },
  "language_info": {
   "codemirror_mode": {
    "name": "ipython",
    "version": 3
   },
   "file_extension": ".py",
   "mimetype": "text/x-python",
   "name": "python",
   "nbconvert_exporter": "python",
   "pygments_lexer": "ipython3",
   "version": "3.11.5"
  }
 },
 "nbformat": 4,
 "nbformat_minor": 5
}
